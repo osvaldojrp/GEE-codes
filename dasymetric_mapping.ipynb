{
 "cells": [
  {
   "cell_type": "markdown",
   "id": "36704289",
   "metadata": {},
   "source": [
    "## Mapping of cattle herd at high spatial resolution based on dasimetric mapping\n",
    "\n",
    "Dasymetric mapping is a geospatial technique that uses information such as **land cover types** to more accurately distribute data that have been assigned to **selected boundaries like census blocks**. Adapted from ***Intelligent Dasymetric Mapping (IDM) Toolbox*** for ArcGIS, avaliable at: https://www.epa.gov/enviroatlas/dasymetric-toolbox"
   ]
  },
  {
   "cell_type": "markdown",
   "id": "338500a4",
   "metadata": {},
   "source": [
    "## Authenticate Google Earth Engine"
   ]
  },
  {
   "cell_type": "code",
   "execution_count": 26,
   "id": "cb94fd34",
   "metadata": {},
   "outputs": [
    {
     "data": {
      "text/html": [
       "<p>To authorize access needed by Earth Engine, open the following\n",
       "        URL in a web browser and follow the instructions:</p>\n",
       "        <p><a href=https://accounts.google.com/o/oauth2/auth?client_id=517222506229-vsmmajv00ul0bs7p89v5m89qs8eb9359.apps.googleusercontent.com&scope=https%3A%2F%2Fwww.googleapis.com%2Fauth%2Fearthengine+https%3A%2F%2Fwww.googleapis.com%2Fauth%2Fdevstorage.full_control&redirect_uri=urn%3Aietf%3Awg%3Aoauth%3A2.0%3Aoob&response_type=code&code_challenge=Vrr7w-KIZvbuewhZ2eKNm6kdIluhG7IDpeL1DO4Zpd0&code_challenge_method=S256>https://accounts.google.com/o/oauth2/auth?client_id=517222506229-vsmmajv00ul0bs7p89v5m89qs8eb9359.apps.googleusercontent.com&scope=https%3A%2F%2Fwww.googleapis.com%2Fauth%2Fearthengine+https%3A%2F%2Fwww.googleapis.com%2Fauth%2Fdevstorage.full_control&redirect_uri=urn%3Aietf%3Awg%3Aoauth%3A2.0%3Aoob&response_type=code&code_challenge=Vrr7w-KIZvbuewhZ2eKNm6kdIluhG7IDpeL1DO4Zpd0&code_challenge_method=S256</a></p>\n",
       "        <p>The authorization workflow will generate a code, which you\n",
       "        should paste in the box below</p>\n",
       "        "
      ],
      "text/plain": [
       "<IPython.core.display.HTML object>"
      ]
     },
     "metadata": {},
     "output_type": "display_data"
    },
    {
     "name": "stdin",
     "output_type": "stream",
     "text": [
      "Enter verification code:  4/1AX4XfWhhT-lOCO_b_x3uNBJUaMyF1S-aXVzhJrYoq-xN9-sx0ZTdvP_r8Zs\n"
     ]
    },
    {
     "name": "stdout",
     "output_type": "stream",
     "text": [
      "\n",
      "Successfully saved authorization token.\n"
     ]
    }
   ],
   "source": [
    "import ee\n",
    "ee.Authenticate()\n",
    "ee.Initialize()"
   ]
  },
  {
   "cell_type": "markdown",
   "id": "6e07b1ec",
   "metadata": {},
   "source": [
    "## Import libraries"
   ]
  },
  {
   "cell_type": "code",
   "execution_count": 27,
   "id": "18238135",
   "metadata": {},
   "outputs": [
    {
     "name": "stdout",
     "output_type": "stream",
     "text": [
      "Folium version: 0.12.1\n"
     ]
    }
   ],
   "source": [
    "import folium\n",
    "import numpy as np \n",
    "import pandas as pd \n",
    "import matplotlib.pyplot as plt \n",
    "from ipygee import*\n",
    "from pandas.plotting import register_matplotlib_converters\n",
    "import geemap\n",
    "import geemap.chart as chart\n",
    "\n",
    "EE_TILES = 'https://earthengine.googleapis.com/map/{mapid}/{{z}}/{{x}}/{{y}}?token={token}'\n",
    "\n",
    "print('Folium version: ' + folium.__version__)\n",
    "\n",
    "def Mapdisplay(center, dicc, Tiles=\"OpensTreetMap\",zoom_start=10):\n",
    "    '''\n",
    "    :param center: Center of the map (Latitude and Longitude).\n",
    "    :param dicc: Earth Engine Geometries or Tiles dictionary\n",
    "    :param Tiles: Mapbox Bright,Mapbox Control Room,Stamen Terrain,Stamen Toner,stamenwatercolor,cartodbpositron.\n",
    "    :zoom_start: Initial zoom level for the map.\n",
    "    :return: A folium.Map object.\n",
    "    '''\n",
    "    mapViz = folium.Map(location=center,tiles=Tiles, zoom_start=zoom_start)\n",
    "    for k,v in dicc.items():\n",
    "      if ee.image.Image in [type(x) for x in v.values()]:\n",
    "        folium.TileLayer(\n",
    "            tiles = v[\"tile_fetcher\"].url_format,\n",
    "            attr  = 'Google Earth Engine',\n",
    "            overlay =True,\n",
    "            name  = k\n",
    "          ).add_to(mapViz)\n",
    "      else:\n",
    "        folium.GeoJson(\n",
    "        data = v,\n",
    "        name = k\n",
    "          ).add_to(mapViz)\n",
    "    mapViz.add_child(folium.LayerControl())\n",
    "    return mapViz"
   ]
  },
  {
   "cell_type": "markdown",
   "id": "c7a0b53c",
   "metadata": {},
   "source": [
    "## Load boundaries used to map the herd"
   ]
  },
  {
   "cell_type": "code",
   "execution_count": 28,
   "id": "767d1cda",
   "metadata": {},
   "outputs": [
    {
     "data": {
      "text/html": [
       "<div style=\"width:100%;\"><div style=\"position:relative;width:100%;height:0;padding-bottom:60%;\"><span style=\"color:#565656\">Make this Notebook Trusted to load map: File -> Trust Notebook</span><iframe src=\"about:blank\" style=\"position:absolute;width:100%;height:100%;left:0;top:0;border:none !important;\" data-html=%3C%21DOCTYPE%20html%3E%0A%3Chead%3E%20%20%20%20%0A%20%20%20%20%3Cmeta%20http-equiv%3D%22content-type%22%20content%3D%22text/html%3B%20charset%3DUTF-8%22%20/%3E%0A%20%20%20%20%0A%20%20%20%20%20%20%20%20%3Cscript%3E%0A%20%20%20%20%20%20%20%20%20%20%20%20L_NO_TOUCH%20%3D%20false%3B%0A%20%20%20%20%20%20%20%20%20%20%20%20L_DISABLE_3D%20%3D%20false%3B%0A%20%20%20%20%20%20%20%20%3C/script%3E%0A%20%20%20%20%0A%20%20%20%20%3Cstyle%3Ehtml%2C%20body%20%7Bwidth%3A%20100%25%3Bheight%3A%20100%25%3Bmargin%3A%200%3Bpadding%3A%200%3B%7D%3C/style%3E%0A%20%20%20%20%3Cstyle%3E%23map%20%7Bposition%3Aabsolute%3Btop%3A0%3Bbottom%3A0%3Bright%3A0%3Bleft%3A0%3B%7D%3C/style%3E%0A%20%20%20%20%3Cscript%20src%3D%22https%3A//cdn.jsdelivr.net/npm/leaflet%401.6.0/dist/leaflet.js%22%3E%3C/script%3E%0A%20%20%20%20%3Cscript%20src%3D%22https%3A//code.jquery.com/jquery-1.12.4.min.js%22%3E%3C/script%3E%0A%20%20%20%20%3Cscript%20src%3D%22https%3A//maxcdn.bootstrapcdn.com/bootstrap/3.2.0/js/bootstrap.min.js%22%3E%3C/script%3E%0A%20%20%20%20%3Cscript%20src%3D%22https%3A//cdnjs.cloudflare.com/ajax/libs/Leaflet.awesome-markers/2.0.2/leaflet.awesome-markers.js%22%3E%3C/script%3E%0A%20%20%20%20%3Clink%20rel%3D%22stylesheet%22%20href%3D%22https%3A//cdn.jsdelivr.net/npm/leaflet%401.6.0/dist/leaflet.css%22/%3E%0A%20%20%20%20%3Clink%20rel%3D%22stylesheet%22%20href%3D%22https%3A//maxcdn.bootstrapcdn.com/bootstrap/3.2.0/css/bootstrap.min.css%22/%3E%0A%20%20%20%20%3Clink%20rel%3D%22stylesheet%22%20href%3D%22https%3A//maxcdn.bootstrapcdn.com/bootstrap/3.2.0/css/bootstrap-theme.min.css%22/%3E%0A%20%20%20%20%3Clink%20rel%3D%22stylesheet%22%20href%3D%22https%3A//maxcdn.bootstrapcdn.com/font-awesome/4.6.3/css/font-awesome.min.css%22/%3E%0A%20%20%20%20%3Clink%20rel%3D%22stylesheet%22%20href%3D%22https%3A//cdnjs.cloudflare.com/ajax/libs/Leaflet.awesome-markers/2.0.2/leaflet.awesome-markers.css%22/%3E%0A%20%20%20%20%3Clink%20rel%3D%22stylesheet%22%20href%3D%22https%3A//cdn.jsdelivr.net/gh/python-visualization/folium/folium/templates/leaflet.awesome.rotate.min.css%22/%3E%0A%20%20%20%20%0A%20%20%20%20%20%20%20%20%20%20%20%20%3Cmeta%20name%3D%22viewport%22%20content%3D%22width%3Ddevice-width%2C%0A%20%20%20%20%20%20%20%20%20%20%20%20%20%20%20%20initial-scale%3D1.0%2C%20maximum-scale%3D1.0%2C%20user-scalable%3Dno%22%20/%3E%0A%20%20%20%20%20%20%20%20%20%20%20%20%3Cstyle%3E%0A%20%20%20%20%20%20%20%20%20%20%20%20%20%20%20%20%23map_6c593951289e4474af61a780d8eb87ec%20%7B%0A%20%20%20%20%20%20%20%20%20%20%20%20%20%20%20%20%20%20%20%20position%3A%20relative%3B%0A%20%20%20%20%20%20%20%20%20%20%20%20%20%20%20%20%20%20%20%20width%3A%20100.0%25%3B%0A%20%20%20%20%20%20%20%20%20%20%20%20%20%20%20%20%20%20%20%20height%3A%20100.0%25%3B%0A%20%20%20%20%20%20%20%20%20%20%20%20%20%20%20%20%20%20%20%20left%3A%200.0%25%3B%0A%20%20%20%20%20%20%20%20%20%20%20%20%20%20%20%20%20%20%20%20top%3A%200.0%25%3B%0A%20%20%20%20%20%20%20%20%20%20%20%20%20%20%20%20%7D%0A%20%20%20%20%20%20%20%20%20%20%20%20%3C/style%3E%0A%20%20%20%20%20%20%20%20%0A%3C/head%3E%0A%3Cbody%3E%20%20%20%20%0A%20%20%20%20%0A%20%20%20%20%20%20%20%20%20%20%20%20%3Cdiv%20class%3D%22folium-map%22%20id%3D%22map_6c593951289e4474af61a780d8eb87ec%22%20%3E%3C/div%3E%0A%20%20%20%20%20%20%20%20%0A%3C/body%3E%0A%3Cscript%3E%20%20%20%20%0A%20%20%20%20%0A%20%20%20%20%20%20%20%20%20%20%20%20var%20map_6c593951289e4474af61a780d8eb87ec%20%3D%20L.map%28%0A%20%20%20%20%20%20%20%20%20%20%20%20%20%20%20%20%22map_6c593951289e4474af61a780d8eb87ec%22%2C%0A%20%20%20%20%20%20%20%20%20%20%20%20%20%20%20%20%7B%0A%20%20%20%20%20%20%20%20%20%20%20%20%20%20%20%20%20%20%20%20center%3A%20%5B-22.266659%2C%20-59.816228%5D%2C%0A%20%20%20%20%20%20%20%20%20%20%20%20%20%20%20%20%20%20%20%20crs%3A%20L.CRS.EPSG3857%2C%0A%20%20%20%20%20%20%20%20%20%20%20%20%20%20%20%20%20%20%20%20zoom%3A%208%2C%0A%20%20%20%20%20%20%20%20%20%20%20%20%20%20%20%20%20%20%20%20zoomControl%3A%20true%2C%0A%20%20%20%20%20%20%20%20%20%20%20%20%20%20%20%20%20%20%20%20preferCanvas%3A%20false%2C%0A%20%20%20%20%20%20%20%20%20%20%20%20%20%20%20%20%7D%0A%20%20%20%20%20%20%20%20%20%20%20%20%29%3B%0A%0A%20%20%20%20%20%20%20%20%20%20%20%20%0A%0A%20%20%20%20%20%20%20%20%0A%20%20%20%20%0A%20%20%20%20%20%20%20%20%20%20%20%20var%20tile_layer_b4b8df96f91644df98a9feadff9e5de5%20%3D%20L.tileLayer%28%0A%20%20%20%20%20%20%20%20%20%20%20%20%20%20%20%20%22https%3A//%7Bs%7D.tile.openstreetmap.org/%7Bz%7D/%7Bx%7D/%7By%7D.png%22%2C%0A%20%20%20%20%20%20%20%20%20%20%20%20%20%20%20%20%7B%22attribution%22%3A%20%22Data%20by%20%5Cu0026copy%3B%20%5Cu003ca%20href%3D%5C%22http%3A//openstreetmap.org%5C%22%5Cu003eOpenStreetMap%5Cu003c/a%5Cu003e%2C%20under%20%5Cu003ca%20href%3D%5C%22http%3A//www.openstreetmap.org/copyright%5C%22%5Cu003eODbL%5Cu003c/a%5Cu003e.%22%2C%20%22detectRetina%22%3A%20false%2C%20%22maxNativeZoom%22%3A%2018%2C%20%22maxZoom%22%3A%2018%2C%20%22minZoom%22%3A%200%2C%20%22noWrap%22%3A%20false%2C%20%22opacity%22%3A%201%2C%20%22subdomains%22%3A%20%22abc%22%2C%20%22tms%22%3A%20false%7D%0A%20%20%20%20%20%20%20%20%20%20%20%20%29.addTo%28map_6c593951289e4474af61a780d8eb87ec%29%3B%0A%20%20%20%20%20%20%20%20%0A%20%20%20%20%0A%20%20%20%20%20%20%20%20%20%20%20%20var%20tile_layer_1cd1452709224043a5ee6c52ecb0de07%20%3D%20L.tileLayer%28%0A%20%20%20%20%20%20%20%20%20%20%20%20%20%20%20%20%22https%3A//earthengine.googleapis.com/v1alpha/projects/earthengine-legacy/maps/f21f478c7efb009e11a0d3db0aaa7621-51fa5a1d73ee70f67d38fed39219565f/tiles/%7Bz%7D/%7Bx%7D/%7By%7D%22%2C%0A%20%20%20%20%20%20%20%20%20%20%20%20%20%20%20%20%7B%22attribution%22%3A%20%22Google%20Earth%20Engine%22%2C%20%22detectRetina%22%3A%20false%2C%20%22maxNativeZoom%22%3A%2018%2C%20%22maxZoom%22%3A%2018%2C%20%22minZoom%22%3A%200%2C%20%22noWrap%22%3A%20false%2C%20%22opacity%22%3A%201%2C%20%22subdomains%22%3A%20%22abc%22%2C%20%22tms%22%3A%20false%7D%0A%20%20%20%20%20%20%20%20%20%20%20%20%29.addTo%28map_6c593951289e4474af61a780d8eb87ec%29%3B%0A%20%20%20%20%20%20%20%20%0A%20%20%20%20%0A%20%20%20%20%20%20%20%20%20%20%20%20var%20tile_layer_b47c84392d034d7a83369119286c545a%20%3D%20L.tileLayer%28%0A%20%20%20%20%20%20%20%20%20%20%20%20%20%20%20%20%22https%3A//earthengine.googleapis.com/v1alpha/projects/earthengine-legacy/maps/a7f184f5c980224922ac5686613075a4-78b0913b685cbc346b54b3d466b9f713/tiles/%7Bz%7D/%7Bx%7D/%7By%7D%22%2C%0A%20%20%20%20%20%20%20%20%20%20%20%20%20%20%20%20%7B%22attribution%22%3A%20%22Google%20Earth%20Engine%22%2C%20%22detectRetina%22%3A%20false%2C%20%22maxNativeZoom%22%3A%2018%2C%20%22maxZoom%22%3A%2018%2C%20%22minZoom%22%3A%200%2C%20%22noWrap%22%3A%20false%2C%20%22opacity%22%3A%201%2C%20%22subdomains%22%3A%20%22abc%22%2C%20%22tms%22%3A%20false%7D%0A%20%20%20%20%20%20%20%20%20%20%20%20%29.addTo%28map_6c593951289e4474af61a780d8eb87ec%29%3B%0A%20%20%20%20%20%20%20%20%0A%20%20%20%20%0A%20%20%20%20%20%20%20%20%20%20%20%20var%20layer_control_383d659bb6d94b019e4a0a79c1f8b6d4%20%3D%20%7B%0A%20%20%20%20%20%20%20%20%20%20%20%20%20%20%20%20base_layers%20%3A%20%7B%0A%20%20%20%20%20%20%20%20%20%20%20%20%20%20%20%20%20%20%20%20%22openstreetmap%22%20%3A%20tile_layer_b4b8df96f91644df98a9feadff9e5de5%2C%0A%20%20%20%20%20%20%20%20%20%20%20%20%20%20%20%20%7D%2C%0A%20%20%20%20%20%20%20%20%20%20%20%20%20%20%20%20overlays%20%3A%20%20%7B%0A%20%20%20%20%20%20%20%20%20%20%20%20%20%20%20%20%20%20%20%20%22SENACSA%22%20%3A%20tile_layer_1cd1452709224043a5ee6c52ecb0de07%2C%0A%20%20%20%20%20%20%20%20%20%20%20%20%20%20%20%20%20%20%20%20%22Official%22%20%3A%20tile_layer_b47c84392d034d7a83369119286c545a%2C%0A%20%20%20%20%20%20%20%20%20%20%20%20%20%20%20%20%7D%2C%0A%20%20%20%20%20%20%20%20%20%20%20%20%7D%3B%0A%20%20%20%20%20%20%20%20%20%20%20%20L.control.layers%28%0A%20%20%20%20%20%20%20%20%20%20%20%20%20%20%20%20layer_control_383d659bb6d94b019e4a0a79c1f8b6d4.base_layers%2C%0A%20%20%20%20%20%20%20%20%20%20%20%20%20%20%20%20layer_control_383d659bb6d94b019e4a0a79c1f8b6d4.overlays%2C%0A%20%20%20%20%20%20%20%20%20%20%20%20%20%20%20%20%7B%22autoZIndex%22%3A%20true%2C%20%22collapsed%22%3A%20true%2C%20%22position%22%3A%20%22topright%22%7D%0A%20%20%20%20%20%20%20%20%20%20%20%20%29.addTo%28map_6c593951289e4474af61a780d8eb87ec%29%3B%0A%20%20%20%20%20%20%20%20%0A%3C/script%3E onload=\"this.contentDocument.open();this.contentDocument.write(    decodeURIComponent(this.getAttribute('data-html')));this.contentDocument.close();\" allowfullscreen webkitallowfullscreen mozallowfullscreen></iframe></div></div>"
      ],
      "text/plain": [
       "<folium.folium.Map at 0x7f7d5c20df28>"
      ]
     },
     "execution_count": 28,
     "metadata": {},
     "output_type": "execute_result"
    }
   ],
   "source": [
    "district = ee.FeatureCollection('users/opereira/trase/south_america/paraguay/borders/paraguay_2019_distritos')\\\n",
    ".filter(ee.Filter.inList('dpto', ['17', '16', '15']))\\\n",
    ".select(['dist_desc',\t'distrito'])\n",
    "\n",
    "senacsa = ee.FeatureCollection('users/opereira/trase/south_america/paraguay/borders/SENACSA_sanitary_sectors')\\\n",
    ".filter(ee.Filter.inList('DEPARTAMEN', ['ALTO PARAGUAY', 'BOQUERON', 'PRESIDENTE HAYES']))\\\n",
    ".select(['CODDIST',\t'DISTRITO'])\n",
    "senacsa1 = ee.Image().toByte().paint(senacsa, 3, 5);\n",
    "district1 = ee.Image().toByte().paint(district, 2, 4);\n",
    "\n",
    "visParams_sena = {'palette': '0000FF',\n",
    "    'max': 3,\n",
    "    'opacity': 0.5\n",
    "};\n",
    "\n",
    "visParams_disc = {'palette': '000000',\n",
    "    'max': 3,\n",
    "    'opacity': 0.5\n",
    "};\n",
    "\n",
    "senacsa_tk = senacsa1.getMapId(visParams_sena)\n",
    "disct_tk = district1.getMapId(visParams_disc)\n",
    "\n",
    "center = [-22.266659, -59.816228]\n",
    "Mapdisplay(center,{'SENACSA':senacsa_tk, 'Official': disct_tk},zoom_start=8)"
   ]
  },
  {
   "cell_type": "markdown",
   "id": "a541b838",
   "metadata": {},
   "source": [
    "## Join tables: feature collections with herd tables"
   ]
  },
  {
   "cell_type": "code",
   "execution_count": 29,
   "id": "4f4237b6",
   "metadata": {},
   "outputs": [],
   "source": [
    "herd = ee.FeatureCollection(\"users/opereira/trase/south_america/paraguay/borders/Cattle_Herd_Origin_2014_2019\")\n",
    "\n",
    "filtro = ee.Filter.equals(\n",
    "              leftField='CODDIST',\n",
    "              rightField='COD_DTO', \n",
    "            );\n",
    "\n",
    "saveAllJoin = ee.Join.saveAll(\n",
    "              matchesKey='District_Code',\n",
    "              ordering='COD_DTO',\n",
    "              ascending= True\n",
    "            );\n",
    "\n",
    "Dat = saveAllJoin.apply(senacsa, herd, filtro);\n",
    "\n",
    "def joining(feature): \n",
    "    popu_19 = ee.Feature(ee.List(feature.get('District_Code')).get(0)).get('Total');\n",
    "    final = feature.set('Herd_2019', popu_19);\n",
    "    return final;\n",
    "bgfips1 = Dat.map(joining)\n",
    "\n",
    "pop10 = ee.Image.random().multiply(100000).toInt32()\\\n",
    ".clip(district)\\\n",
    ".reproject(crs=senacsa1.projection().crs(),  scale=2000);\n",
    "\n",
    "pop10_1 = pop10.reduceToVectors(\n",
    "          geometry=district,\n",
    "          crs=senacsa1.projection(),\n",
    "          scale=2000,\n",
    "          geometryType='polygon',\n",
    "          eightConnected=False,\n",
    "          labelProperty='ZONE_ID',\n",
    "          );"
   ]
  },
  {
   "cell_type": "markdown",
   "id": "c39509f8",
   "metadata": {},
   "source": [
    "## Dependent variable: Prepare pasture area data and calculate proportional distribution"
   ]
  },
  {
   "cell_type": "code",
   "execution_count": 30,
   "id": "22e65a9c",
   "metadata": {},
   "outputs": [
    {
     "data": {
      "text/html": [
       "<div style=\"width:100%;\"><div style=\"position:relative;width:100%;height:0;padding-bottom:60%;\"><span style=\"color:#565656\">Make this Notebook Trusted to load map: File -> Trust Notebook</span><iframe src=\"about:blank\" style=\"position:absolute;width:100%;height:100%;left:0;top:0;border:none !important;\" data-html=%3C%21DOCTYPE%20html%3E%0A%3Chead%3E%20%20%20%20%0A%20%20%20%20%3Cmeta%20http-equiv%3D%22content-type%22%20content%3D%22text/html%3B%20charset%3DUTF-8%22%20/%3E%0A%20%20%20%20%0A%20%20%20%20%20%20%20%20%3Cscript%3E%0A%20%20%20%20%20%20%20%20%20%20%20%20L_NO_TOUCH%20%3D%20false%3B%0A%20%20%20%20%20%20%20%20%20%20%20%20L_DISABLE_3D%20%3D%20false%3B%0A%20%20%20%20%20%20%20%20%3C/script%3E%0A%20%20%20%20%0A%20%20%20%20%3Cstyle%3Ehtml%2C%20body%20%7Bwidth%3A%20100%25%3Bheight%3A%20100%25%3Bmargin%3A%200%3Bpadding%3A%200%3B%7D%3C/style%3E%0A%20%20%20%20%3Cstyle%3E%23map%20%7Bposition%3Aabsolute%3Btop%3A0%3Bbottom%3A0%3Bright%3A0%3Bleft%3A0%3B%7D%3C/style%3E%0A%20%20%20%20%3Cscript%20src%3D%22https%3A//cdn.jsdelivr.net/npm/leaflet%401.6.0/dist/leaflet.js%22%3E%3C/script%3E%0A%20%20%20%20%3Cscript%20src%3D%22https%3A//code.jquery.com/jquery-1.12.4.min.js%22%3E%3C/script%3E%0A%20%20%20%20%3Cscript%20src%3D%22https%3A//maxcdn.bootstrapcdn.com/bootstrap/3.2.0/js/bootstrap.min.js%22%3E%3C/script%3E%0A%20%20%20%20%3Cscript%20src%3D%22https%3A//cdnjs.cloudflare.com/ajax/libs/Leaflet.awesome-markers/2.0.2/leaflet.awesome-markers.js%22%3E%3C/script%3E%0A%20%20%20%20%3Clink%20rel%3D%22stylesheet%22%20href%3D%22https%3A//cdn.jsdelivr.net/npm/leaflet%401.6.0/dist/leaflet.css%22/%3E%0A%20%20%20%20%3Clink%20rel%3D%22stylesheet%22%20href%3D%22https%3A//maxcdn.bootstrapcdn.com/bootstrap/3.2.0/css/bootstrap.min.css%22/%3E%0A%20%20%20%20%3Clink%20rel%3D%22stylesheet%22%20href%3D%22https%3A//maxcdn.bootstrapcdn.com/bootstrap/3.2.0/css/bootstrap-theme.min.css%22/%3E%0A%20%20%20%20%3Clink%20rel%3D%22stylesheet%22%20href%3D%22https%3A//maxcdn.bootstrapcdn.com/font-awesome/4.6.3/css/font-awesome.min.css%22/%3E%0A%20%20%20%20%3Clink%20rel%3D%22stylesheet%22%20href%3D%22https%3A//cdnjs.cloudflare.com/ajax/libs/Leaflet.awesome-markers/2.0.2/leaflet.awesome-markers.css%22/%3E%0A%20%20%20%20%3Clink%20rel%3D%22stylesheet%22%20href%3D%22https%3A//cdn.jsdelivr.net/gh/python-visualization/folium/folium/templates/leaflet.awesome.rotate.min.css%22/%3E%0A%20%20%20%20%0A%20%20%20%20%20%20%20%20%20%20%20%20%3Cmeta%20name%3D%22viewport%22%20content%3D%22width%3Ddevice-width%2C%0A%20%20%20%20%20%20%20%20%20%20%20%20%20%20%20%20initial-scale%3D1.0%2C%20maximum-scale%3D1.0%2C%20user-scalable%3Dno%22%20/%3E%0A%20%20%20%20%20%20%20%20%20%20%20%20%3Cstyle%3E%0A%20%20%20%20%20%20%20%20%20%20%20%20%20%20%20%20%23map_ad3cfc576b6b4dfc9216084afde4f694%20%7B%0A%20%20%20%20%20%20%20%20%20%20%20%20%20%20%20%20%20%20%20%20position%3A%20relative%3B%0A%20%20%20%20%20%20%20%20%20%20%20%20%20%20%20%20%20%20%20%20width%3A%20100.0%25%3B%0A%20%20%20%20%20%20%20%20%20%20%20%20%20%20%20%20%20%20%20%20height%3A%20100.0%25%3B%0A%20%20%20%20%20%20%20%20%20%20%20%20%20%20%20%20%20%20%20%20left%3A%200.0%25%3B%0A%20%20%20%20%20%20%20%20%20%20%20%20%20%20%20%20%20%20%20%20top%3A%200.0%25%3B%0A%20%20%20%20%20%20%20%20%20%20%20%20%20%20%20%20%7D%0A%20%20%20%20%20%20%20%20%20%20%20%20%3C/style%3E%0A%20%20%20%20%20%20%20%20%0A%3C/head%3E%0A%3Cbody%3E%20%20%20%20%0A%20%20%20%20%0A%20%20%20%20%20%20%20%20%20%20%20%20%3Cdiv%20class%3D%22folium-map%22%20id%3D%22map_ad3cfc576b6b4dfc9216084afde4f694%22%20%3E%3C/div%3E%0A%20%20%20%20%20%20%20%20%0A%3C/body%3E%0A%3Cscript%3E%20%20%20%20%0A%20%20%20%20%0A%20%20%20%20%20%20%20%20%20%20%20%20var%20map_ad3cfc576b6b4dfc9216084afde4f694%20%3D%20L.map%28%0A%20%20%20%20%20%20%20%20%20%20%20%20%20%20%20%20%22map_ad3cfc576b6b4dfc9216084afde4f694%22%2C%0A%20%20%20%20%20%20%20%20%20%20%20%20%20%20%20%20%7B%0A%20%20%20%20%20%20%20%20%20%20%20%20%20%20%20%20%20%20%20%20center%3A%20%5B-22.266659%2C%20-59.816228%5D%2C%0A%20%20%20%20%20%20%20%20%20%20%20%20%20%20%20%20%20%20%20%20crs%3A%20L.CRS.EPSG3857%2C%0A%20%20%20%20%20%20%20%20%20%20%20%20%20%20%20%20%20%20%20%20zoom%3A%207%2C%0A%20%20%20%20%20%20%20%20%20%20%20%20%20%20%20%20%20%20%20%20zoomControl%3A%20true%2C%0A%20%20%20%20%20%20%20%20%20%20%20%20%20%20%20%20%20%20%20%20preferCanvas%3A%20false%2C%0A%20%20%20%20%20%20%20%20%20%20%20%20%20%20%20%20%7D%0A%20%20%20%20%20%20%20%20%20%20%20%20%29%3B%0A%0A%20%20%20%20%20%20%20%20%20%20%20%20%0A%0A%20%20%20%20%20%20%20%20%0A%20%20%20%20%0A%20%20%20%20%20%20%20%20%20%20%20%20var%20tile_layer_5304d482537343d5a48798661f0386ac%20%3D%20L.tileLayer%28%0A%20%20%20%20%20%20%20%20%20%20%20%20%20%20%20%20%22https%3A//%7Bs%7D.tile.openstreetmap.org/%7Bz%7D/%7Bx%7D/%7By%7D.png%22%2C%0A%20%20%20%20%20%20%20%20%20%20%20%20%20%20%20%20%7B%22attribution%22%3A%20%22Data%20by%20%5Cu0026copy%3B%20%5Cu003ca%20href%3D%5C%22http%3A//openstreetmap.org%5C%22%5Cu003eOpenStreetMap%5Cu003c/a%5Cu003e%2C%20under%20%5Cu003ca%20href%3D%5C%22http%3A//www.openstreetmap.org/copyright%5C%22%5Cu003eODbL%5Cu003c/a%5Cu003e.%22%2C%20%22detectRetina%22%3A%20false%2C%20%22maxNativeZoom%22%3A%2018%2C%20%22maxZoom%22%3A%2018%2C%20%22minZoom%22%3A%200%2C%20%22noWrap%22%3A%20false%2C%20%22opacity%22%3A%201%2C%20%22subdomains%22%3A%20%22abc%22%2C%20%22tms%22%3A%20false%7D%0A%20%20%20%20%20%20%20%20%20%20%20%20%29.addTo%28map_ad3cfc576b6b4dfc9216084afde4f694%29%3B%0A%20%20%20%20%20%20%20%20%0A%20%20%20%20%0A%20%20%20%20%20%20%20%20%20%20%20%20var%20tile_layer_a387cc87b6c44a1d83db110ec8a34fa8%20%3D%20L.tileLayer%28%0A%20%20%20%20%20%20%20%20%20%20%20%20%20%20%20%20%22https%3A//earthengine.googleapis.com/v1alpha/projects/earthengine-legacy/maps/1f2e10b8def0569f5797ee6880b3e286-1aa2638ff75800b631419283b29cfab0/tiles/%7Bz%7D/%7Bx%7D/%7By%7D%22%2C%0A%20%20%20%20%20%20%20%20%20%20%20%20%20%20%20%20%7B%22attribution%22%3A%20%22Google%20Earth%20Engine%22%2C%20%22detectRetina%22%3A%20false%2C%20%22maxNativeZoom%22%3A%2018%2C%20%22maxZoom%22%3A%2018%2C%20%22minZoom%22%3A%200%2C%20%22noWrap%22%3A%20false%2C%20%22opacity%22%3A%201%2C%20%22subdomains%22%3A%20%22abc%22%2C%20%22tms%22%3A%20false%7D%0A%20%20%20%20%20%20%20%20%20%20%20%20%29.addTo%28map_ad3cfc576b6b4dfc9216084afde4f694%29%3B%0A%20%20%20%20%20%20%20%20%0A%20%20%20%20%0A%20%20%20%20%20%20%20%20%20%20%20%20var%20layer_control_0e330742279a4138a6c65174f1451758%20%3D%20%7B%0A%20%20%20%20%20%20%20%20%20%20%20%20%20%20%20%20base_layers%20%3A%20%7B%0A%20%20%20%20%20%20%20%20%20%20%20%20%20%20%20%20%20%20%20%20%22openstreetmap%22%20%3A%20tile_layer_5304d482537343d5a48798661f0386ac%2C%0A%20%20%20%20%20%20%20%20%20%20%20%20%20%20%20%20%7D%2C%0A%20%20%20%20%20%20%20%20%20%20%20%20%20%20%20%20overlays%20%3A%20%20%7B%0A%20%20%20%20%20%20%20%20%20%20%20%20%20%20%20%20%20%20%20%20%22SENACSA%22%20%3A%20tile_layer_a387cc87b6c44a1d83db110ec8a34fa8%2C%0A%20%20%20%20%20%20%20%20%20%20%20%20%20%20%20%20%7D%2C%0A%20%20%20%20%20%20%20%20%20%20%20%20%7D%3B%0A%20%20%20%20%20%20%20%20%20%20%20%20L.control.layers%28%0A%20%20%20%20%20%20%20%20%20%20%20%20%20%20%20%20layer_control_0e330742279a4138a6c65174f1451758.base_layers%2C%0A%20%20%20%20%20%20%20%20%20%20%20%20%20%20%20%20layer_control_0e330742279a4138a6c65174f1451758.overlays%2C%0A%20%20%20%20%20%20%20%20%20%20%20%20%20%20%20%20%7B%22autoZIndex%22%3A%20true%2C%20%22collapsed%22%3A%20true%2C%20%22position%22%3A%20%22topright%22%7D%0A%20%20%20%20%20%20%20%20%20%20%20%20%29.addTo%28map_ad3cfc576b6b4dfc9216084afde4f694%29%3B%0A%20%20%20%20%20%20%20%20%0A%3C/script%3E onload=\"this.contentDocument.open();this.contentDocument.write(    decodeURIComponent(this.getAttribute('data-html')));this.contentDocument.close();\" allowfullscreen webkitallowfullscreen mozallowfullscreen></iframe></div></div>"
      ],
      "text/plain": [
       "<folium.folium.Map at 0x7f7d5c24bf60>"
      ]
     },
     "execution_count": 30,
     "metadata": {},
     "output_type": "execute_result"
    }
   ],
   "source": [
    "MB = ee.Image('projects/mapbiomas-chaco/public/collection2/mapbiomas_chaco_collection2_integration_v1');\n",
    "\n",
    "collection_2019 = MB.toUint8().clip(district).select('classification_2019').toUint8().clip(district);\n",
    "\n",
    "def grouping(img):\n",
    "    pasto=img.eq(15).add(img.eq(6)).add(img.eq(11)).add(img.eq(42)).add(img.eq(43)).add(img.eq(44))\n",
    "    return pasto.remap([0, 1], [0, 1]);\n",
    "\n",
    "LULC_2019_0 = grouping(collection_2019).clip(district);\n",
    "\n",
    "LULC_2019 = LULC_2018_0.updateMask(LULC_2019_0.gt(0)).clip(district);\n",
    "\n",
    "prop = LULC_2019.clip(district).reduceRegions(\n",
    "  collection=pop10_1,\n",
    "  reducer=ee.Reducer.sum(),\n",
    "  scale=30,\n",
    ");\n",
    "\n",
    "denstity_0 = prop.filter(ee.Filter.notNull(['sum']))\\\n",
    ".reduceToImage(\n",
    "    properties=['sum'],\n",
    "    reducer=ee.Reducer.mean()\n",
    "   );\n",
    "\n",
    "mini = denstity_0.reduceRegion(\n",
    "    reducer=ee.Reducer.min(),\n",
    "    geometry=district,\n",
    "    scale=100,\n",
    "    maxPixels=1e13,\n",
    "    bestEffort=True\n",
    "   ).get('mean');\n",
    "\n",
    "maxi = denstity_0.reduceRegion(\n",
    "    reducer=ee.Reducer.max(),\n",
    "    geometry=district,\n",
    "    scale=100,\n",
    "    maxPixels=1e13,\n",
    "    bestEffort=True\n",
    "    ).get('mean');\n",
    "\n",
    "density = denstity_0.unitScale(ee.Number(mini), ee.Number(maxi)).multiply(100);\n",
    "\n",
    "relative_density = ee.Image(1)\\\n",
    "          .where(density.lt(1), 0)\\\n",
    "          .where(density.gte(1).And(density.lte(5)), 1)\\\n",
    "          .where(density.gte(6).And(density.lte(10)), 2)\\\n",
    "          .where(density.gte(11).And(density.lte(17)), 3)\\\n",
    "          .where(density.gte(18).And(density.lte(23)), 5)\\\n",
    "          .where(density.gte(24).And(density.lte(34)), 8)\\\n",
    "          .where(density.gte(35).And(density.lte(50)), 12)\\\n",
    "          .where(density.gte(51).And(density.lte(75)), 16)\\\n",
    "          .where(density.gte(76).And(density.lte(90)), 20)\\\n",
    "          .where(density.gte(91).And(density.lte(100)), 25)\\\n",
    "          .clip(district).reproject(crs=senacsa1.projection().crs(),  scale=2000).toUint8();\n",
    "\n",
    "visParams_rdensity = {'palette': ['blue', 'green', 'yellow', 'orange', 'red'],\n",
    "    'min': 0,\n",
    "    'max': 25,\n",
    "    'opacity': 0.9\n",
    "};\n",
    "\n",
    "rdensity_tk = relative_density.getMapId(visParams_rdensity)\n",
    "\n",
    "center = [-22.266659, -59.816228]\n",
    "Mapdisplay(center,{'SENACSA':rdensity_tk},zoom_start=7)"
   ]
  },
  {
   "cell_type": "markdown",
   "id": "6f4e3fdf",
   "metadata": {},
   "source": [
    "## Dasymetric mapping"
   ]
  },
  {
   "cell_type": "markdown",
   "id": "18b9e74c",
   "metadata": {},
   "source": [
    "### Calculate total population per census block (raster) and expected proportion of each raster cell"
   ]
  },
  {
   "cell_type": "code",
   "execution_count": 32,
   "id": "7f704e13",
   "metadata": {},
   "outputs": [],
   "source": [
    "bgfips = bgfips1.filter(ee.Filter.notNull(['sum'])).reduceToImage(\n",
    "    properties=['CODDIST'],\n",
    "    reducer=ee.Reducer.first()\n",
    "    ).reproject(crs=senacsa1.projection().crs(),  scale=2000).toUint16().clip(district)\n",
    "\n",
    "densities = ['area0','area1','area2','area3', 'area4', 'area5', 'area6', 'area7', 'area8', 'area9']\n",
    "count = relative_density.eq([0, 1, 2, 3, 5, 8, 12, 16, 20, 25]).rename(densities);\n",
    "total = count.multiply(ee.Image.pixelArea().multiply(0.0001));\n",
    "lctab0 = total.reduceRegions(\n",
    "      collection=senacsa,\n",
    "      reducer=ee.Reducer.sum(),\n",
    "      scale=2000,\n",
    "      );\n",
    "#lctab0.getInfo()\n",
    "\n",
    "def computeTotal(feature):\n",
    "                          P0=ee.Number(feature.get('area0'))\n",
    "                          P1=ee.Number(feature.get('area1'))\n",
    "                          P2=ee.Number(feature.get('area2'))\n",
    "                          P3=ee.Number(feature.get('area3'))\n",
    "                          P4=ee.Number(feature.get('area4'))\n",
    "                          P5=ee.Number(feature.get('area5'))\n",
    "                          P6=ee.Number(feature.get('area6'))\n",
    "                          P7=ee.Number(feature.get('area7'))\n",
    "                          P8=ee.Number(feature.get('area8'))\n",
    "                          P9=ee.Number(feature.get('area9'))\n",
    "                          return feature.set('Total', P0.add(P1).add(P2).add(P3).add(P4).add(P5).add(P6).add(P7).add(P8).add(P9));\n",
    "\n",
    "total = lctab0.map(computeTotal);\n",
    "\n",
    "def computeE(feature):\n",
    "              P0 = ee.Number(feature.get('area0'))\n",
    "              P1 = ee.Number(feature.get('area1'))\n",
    "              P2 = ee.Number(feature.get('area2'))\n",
    "              P3 = ee.Number(feature.get('area3'))\n",
    "              P4 = ee.Number(feature.get('area4'))\n",
    "              P5 = ee.Number(feature.get('area5'))\n",
    "              P6 = ee.Number(feature.get('area6'))\n",
    "              P7 = ee.Number(feature.get('area7'))\n",
    "              P8 = ee.Number(feature.get('area8'))\n",
    "              P9 = ee.Number(feature.get('area9'))\n",
    "              Total = ee.Number(feature.get('Total'))\n",
    "              return feature.set('E', P0.divide(Total).multiply(0)\n",
    "              .add(P1.divide(Total).multiply(1))\n",
    "              .add(P2.divide(Total).multiply(2))\n",
    "              .add(P4.divide(Total).multiply(5))\n",
    "              .add(P5.divide(Total).multiply(8))\n",
    "              .add(P6.divide(Total).multiply(12))\n",
    "              .add(P7.divide(Total).multiply(16))\n",
    "              .add(P8.divide(Total).multiply(20))\n",
    "              .add(P9.divide(Total).multiply(25)))\n",
    "\n",
    "E_0 = total.map(computeE)\n",
    "\n",
    "#E_0.getInfo()\n",
    "#total.getInfo()"
   ]
  },
  {
   "cell_type": "markdown",
   "id": "d91323cb",
   "metadata": {},
   "source": [
    "### Aplying dasimetric equation and viewing results"
   ]
  },
  {
   "cell_type": "code",
   "execution_count": 33,
   "id": "6c1efd0c",
   "metadata": {},
   "outputs": [
    {
     "data": {
      "text/html": [
       "<div style=\"width:100%;\"><div style=\"position:relative;width:100%;height:0;padding-bottom:60%;\"><span style=\"color:#565656\">Make this Notebook Trusted to load map: File -> Trust Notebook</span><iframe src=\"about:blank\" style=\"position:absolute;width:100%;height:100%;left:0;top:0;border:none !important;\" data-html=%3C%21DOCTYPE%20html%3E%0A%3Chead%3E%20%20%20%20%0A%20%20%20%20%3Cmeta%20http-equiv%3D%22content-type%22%20content%3D%22text/html%3B%20charset%3DUTF-8%22%20/%3E%0A%20%20%20%20%0A%20%20%20%20%20%20%20%20%3Cscript%3E%0A%20%20%20%20%20%20%20%20%20%20%20%20L_NO_TOUCH%20%3D%20false%3B%0A%20%20%20%20%20%20%20%20%20%20%20%20L_DISABLE_3D%20%3D%20false%3B%0A%20%20%20%20%20%20%20%20%3C/script%3E%0A%20%20%20%20%0A%20%20%20%20%3Cstyle%3Ehtml%2C%20body%20%7Bwidth%3A%20100%25%3Bheight%3A%20100%25%3Bmargin%3A%200%3Bpadding%3A%200%3B%7D%3C/style%3E%0A%20%20%20%20%3Cstyle%3E%23map%20%7Bposition%3Aabsolute%3Btop%3A0%3Bbottom%3A0%3Bright%3A0%3Bleft%3A0%3B%7D%3C/style%3E%0A%20%20%20%20%3Cscript%20src%3D%22https%3A//cdn.jsdelivr.net/npm/leaflet%401.6.0/dist/leaflet.js%22%3E%3C/script%3E%0A%20%20%20%20%3Cscript%20src%3D%22https%3A//code.jquery.com/jquery-1.12.4.min.js%22%3E%3C/script%3E%0A%20%20%20%20%3Cscript%20src%3D%22https%3A//maxcdn.bootstrapcdn.com/bootstrap/3.2.0/js/bootstrap.min.js%22%3E%3C/script%3E%0A%20%20%20%20%3Cscript%20src%3D%22https%3A//cdnjs.cloudflare.com/ajax/libs/Leaflet.awesome-markers/2.0.2/leaflet.awesome-markers.js%22%3E%3C/script%3E%0A%20%20%20%20%3Clink%20rel%3D%22stylesheet%22%20href%3D%22https%3A//cdn.jsdelivr.net/npm/leaflet%401.6.0/dist/leaflet.css%22/%3E%0A%20%20%20%20%3Clink%20rel%3D%22stylesheet%22%20href%3D%22https%3A//maxcdn.bootstrapcdn.com/bootstrap/3.2.0/css/bootstrap.min.css%22/%3E%0A%20%20%20%20%3Clink%20rel%3D%22stylesheet%22%20href%3D%22https%3A//maxcdn.bootstrapcdn.com/bootstrap/3.2.0/css/bootstrap-theme.min.css%22/%3E%0A%20%20%20%20%3Clink%20rel%3D%22stylesheet%22%20href%3D%22https%3A//maxcdn.bootstrapcdn.com/font-awesome/4.6.3/css/font-awesome.min.css%22/%3E%0A%20%20%20%20%3Clink%20rel%3D%22stylesheet%22%20href%3D%22https%3A//cdnjs.cloudflare.com/ajax/libs/Leaflet.awesome-markers/2.0.2/leaflet.awesome-markers.css%22/%3E%0A%20%20%20%20%3Clink%20rel%3D%22stylesheet%22%20href%3D%22https%3A//cdn.jsdelivr.net/gh/python-visualization/folium/folium/templates/leaflet.awesome.rotate.min.css%22/%3E%0A%20%20%20%20%0A%20%20%20%20%20%20%20%20%20%20%20%20%3Cmeta%20name%3D%22viewport%22%20content%3D%22width%3Ddevice-width%2C%0A%20%20%20%20%20%20%20%20%20%20%20%20%20%20%20%20initial-scale%3D1.0%2C%20maximum-scale%3D1.0%2C%20user-scalable%3Dno%22%20/%3E%0A%20%20%20%20%20%20%20%20%20%20%20%20%3Cstyle%3E%0A%20%20%20%20%20%20%20%20%20%20%20%20%20%20%20%20%23map_bf213885e5f648e1a9aa949114bdbf21%20%7B%0A%20%20%20%20%20%20%20%20%20%20%20%20%20%20%20%20%20%20%20%20position%3A%20relative%3B%0A%20%20%20%20%20%20%20%20%20%20%20%20%20%20%20%20%20%20%20%20width%3A%20100.0%25%3B%0A%20%20%20%20%20%20%20%20%20%20%20%20%20%20%20%20%20%20%20%20height%3A%20100.0%25%3B%0A%20%20%20%20%20%20%20%20%20%20%20%20%20%20%20%20%20%20%20%20left%3A%200.0%25%3B%0A%20%20%20%20%20%20%20%20%20%20%20%20%20%20%20%20%20%20%20%20top%3A%200.0%25%3B%0A%20%20%20%20%20%20%20%20%20%20%20%20%20%20%20%20%7D%0A%20%20%20%20%20%20%20%20%20%20%20%20%3C/style%3E%0A%20%20%20%20%20%20%20%20%0A%3C/head%3E%0A%3Cbody%3E%20%20%20%20%0A%20%20%20%20%0A%20%20%20%20%20%20%20%20%20%20%20%20%3Cdiv%20class%3D%22folium-map%22%20id%3D%22map_bf213885e5f648e1a9aa949114bdbf21%22%20%3E%3C/div%3E%0A%20%20%20%20%20%20%20%20%0A%3C/body%3E%0A%3Cscript%3E%20%20%20%20%0A%20%20%20%20%0A%20%20%20%20%20%20%20%20%20%20%20%20var%20map_bf213885e5f648e1a9aa949114bdbf21%20%3D%20L.map%28%0A%20%20%20%20%20%20%20%20%20%20%20%20%20%20%20%20%22map_bf213885e5f648e1a9aa949114bdbf21%22%2C%0A%20%20%20%20%20%20%20%20%20%20%20%20%20%20%20%20%7B%0A%20%20%20%20%20%20%20%20%20%20%20%20%20%20%20%20%20%20%20%20center%3A%20%5B-22.266659%2C%20-59.816228%5D%2C%0A%20%20%20%20%20%20%20%20%20%20%20%20%20%20%20%20%20%20%20%20crs%3A%20L.CRS.EPSG3857%2C%0A%20%20%20%20%20%20%20%20%20%20%20%20%20%20%20%20%20%20%20%20zoom%3A%207%2C%0A%20%20%20%20%20%20%20%20%20%20%20%20%20%20%20%20%20%20%20%20zoomControl%3A%20true%2C%0A%20%20%20%20%20%20%20%20%20%20%20%20%20%20%20%20%20%20%20%20preferCanvas%3A%20false%2C%0A%20%20%20%20%20%20%20%20%20%20%20%20%20%20%20%20%7D%0A%20%20%20%20%20%20%20%20%20%20%20%20%29%3B%0A%0A%20%20%20%20%20%20%20%20%20%20%20%20%0A%0A%20%20%20%20%20%20%20%20%0A%20%20%20%20%0A%20%20%20%20%20%20%20%20%20%20%20%20var%20tile_layer_b4fcefc8d3494e2d9103605dcbd82ba3%20%3D%20L.tileLayer%28%0A%20%20%20%20%20%20%20%20%20%20%20%20%20%20%20%20%22https%3A//%7Bs%7D.tile.openstreetmap.org/%7Bz%7D/%7Bx%7D/%7By%7D.png%22%2C%0A%20%20%20%20%20%20%20%20%20%20%20%20%20%20%20%20%7B%22attribution%22%3A%20%22Data%20by%20%5Cu0026copy%3B%20%5Cu003ca%20href%3D%5C%22http%3A//openstreetmap.org%5C%22%5Cu003eOpenStreetMap%5Cu003c/a%5Cu003e%2C%20under%20%5Cu003ca%20href%3D%5C%22http%3A//www.openstreetmap.org/copyright%5C%22%5Cu003eODbL%5Cu003c/a%5Cu003e.%22%2C%20%22detectRetina%22%3A%20false%2C%20%22maxNativeZoom%22%3A%2018%2C%20%22maxZoom%22%3A%2018%2C%20%22minZoom%22%3A%200%2C%20%22noWrap%22%3A%20false%2C%20%22opacity%22%3A%201%2C%20%22subdomains%22%3A%20%22abc%22%2C%20%22tms%22%3A%20false%7D%0A%20%20%20%20%20%20%20%20%20%20%20%20%29.addTo%28map_bf213885e5f648e1a9aa949114bdbf21%29%3B%0A%20%20%20%20%20%20%20%20%0A%20%20%20%20%0A%20%20%20%20%20%20%20%20%20%20%20%20var%20tile_layer_e30aff3740bf465181a9e673da0336c9%20%3D%20L.tileLayer%28%0A%20%20%20%20%20%20%20%20%20%20%20%20%20%20%20%20%22https%3A//earthengine.googleapis.com/v1alpha/projects/earthengine-legacy/maps/51a4339101c6587fbbc2cf78c8cbe0ce-105dfbc3d2eb2ea1d242ba640531f704/tiles/%7Bz%7D/%7Bx%7D/%7By%7D%22%2C%0A%20%20%20%20%20%20%20%20%20%20%20%20%20%20%20%20%7B%22attribution%22%3A%20%22Google%20Earth%20Engine%22%2C%20%22detectRetina%22%3A%20false%2C%20%22maxNativeZoom%22%3A%2018%2C%20%22maxZoom%22%3A%2018%2C%20%22minZoom%22%3A%200%2C%20%22noWrap%22%3A%20false%2C%20%22opacity%22%3A%201%2C%20%22subdomains%22%3A%20%22abc%22%2C%20%22tms%22%3A%20false%7D%0A%20%20%20%20%20%20%20%20%20%20%20%20%29.addTo%28map_bf213885e5f648e1a9aa949114bdbf21%29%3B%0A%20%20%20%20%20%20%20%20%0A%20%20%20%20%0A%20%20%20%20%20%20%20%20%20%20%20%20var%20tile_layer_81e012665f504083be611ebf9c54f656%20%3D%20L.tileLayer%28%0A%20%20%20%20%20%20%20%20%20%20%20%20%20%20%20%20%22https%3A//earthengine.googleapis.com/v1alpha/projects/earthengine-legacy/maps/f21f478c7efb009e11a0d3db0aaa7621-51fa5a1d73ee70f67d38fed39219565f/tiles/%7Bz%7D/%7Bx%7D/%7By%7D%22%2C%0A%20%20%20%20%20%20%20%20%20%20%20%20%20%20%20%20%7B%22attribution%22%3A%20%22Google%20Earth%20Engine%22%2C%20%22detectRetina%22%3A%20false%2C%20%22maxNativeZoom%22%3A%2018%2C%20%22maxZoom%22%3A%2018%2C%20%22minZoom%22%3A%200%2C%20%22noWrap%22%3A%20false%2C%20%22opacity%22%3A%201%2C%20%22subdomains%22%3A%20%22abc%22%2C%20%22tms%22%3A%20false%7D%0A%20%20%20%20%20%20%20%20%20%20%20%20%29.addTo%28map_bf213885e5f648e1a9aa949114bdbf21%29%3B%0A%20%20%20%20%20%20%20%20%0A%20%20%20%20%0A%20%20%20%20%20%20%20%20%20%20%20%20var%20tile_layer_aa81f4d2ae8149308c936714aecb47dc%20%3D%20L.tileLayer%28%0A%20%20%20%20%20%20%20%20%20%20%20%20%20%20%20%20%22https%3A//earthengine.googleapis.com/v1alpha/projects/earthengine-legacy/maps/a7f184f5c980224922ac5686613075a4-78b0913b685cbc346b54b3d466b9f713/tiles/%7Bz%7D/%7Bx%7D/%7By%7D%22%2C%0A%20%20%20%20%20%20%20%20%20%20%20%20%20%20%20%20%7B%22attribution%22%3A%20%22Google%20Earth%20Engine%22%2C%20%22detectRetina%22%3A%20false%2C%20%22maxNativeZoom%22%3A%2018%2C%20%22maxZoom%22%3A%2018%2C%20%22minZoom%22%3A%200%2C%20%22noWrap%22%3A%20false%2C%20%22opacity%22%3A%201%2C%20%22subdomains%22%3A%20%22abc%22%2C%20%22tms%22%3A%20false%7D%0A%20%20%20%20%20%20%20%20%20%20%20%20%29.addTo%28map_bf213885e5f648e1a9aa949114bdbf21%29%3B%0A%20%20%20%20%20%20%20%20%0A%20%20%20%20%0A%20%20%20%20%20%20%20%20%20%20%20%20var%20layer_control_877a9512bbdc4bbf900624ec5ce6382d%20%3D%20%7B%0A%20%20%20%20%20%20%20%20%20%20%20%20%20%20%20%20base_layers%20%3A%20%7B%0A%20%20%20%20%20%20%20%20%20%20%20%20%20%20%20%20%20%20%20%20%22openstreetmap%22%20%3A%20tile_layer_b4fcefc8d3494e2d9103605dcbd82ba3%2C%0A%20%20%20%20%20%20%20%20%20%20%20%20%20%20%20%20%7D%2C%0A%20%20%20%20%20%20%20%20%20%20%20%20%20%20%20%20overlays%20%3A%20%20%7B%0A%20%20%20%20%20%20%20%20%20%20%20%20%20%20%20%20%20%20%20%20%22Cattle%20herd%202019%22%20%3A%20tile_layer_e30aff3740bf465181a9e673da0336c9%2C%0A%20%20%20%20%20%20%20%20%20%20%20%20%20%20%20%20%20%20%20%20%22SENACSA%20limit%22%20%3A%20tile_layer_81e012665f504083be611ebf9c54f656%2C%0A%20%20%20%20%20%20%20%20%20%20%20%20%20%20%20%20%20%20%20%20%22District%20limits%22%20%3A%20tile_layer_aa81f4d2ae8149308c936714aecb47dc%2C%0A%20%20%20%20%20%20%20%20%20%20%20%20%20%20%20%20%7D%2C%0A%20%20%20%20%20%20%20%20%20%20%20%20%7D%3B%0A%20%20%20%20%20%20%20%20%20%20%20%20L.control.layers%28%0A%20%20%20%20%20%20%20%20%20%20%20%20%20%20%20%20layer_control_877a9512bbdc4bbf900624ec5ce6382d.base_layers%2C%0A%20%20%20%20%20%20%20%20%20%20%20%20%20%20%20%20layer_control_877a9512bbdc4bbf900624ec5ce6382d.overlays%2C%0A%20%20%20%20%20%20%20%20%20%20%20%20%20%20%20%20%7B%22autoZIndex%22%3A%20true%2C%20%22collapsed%22%3A%20true%2C%20%22position%22%3A%20%22topright%22%7D%0A%20%20%20%20%20%20%20%20%20%20%20%20%29.addTo%28map_bf213885e5f648e1a9aa949114bdbf21%29%3B%0A%20%20%20%20%20%20%20%20%0A%3C/script%3E onload=\"this.contentDocument.open();this.contentDocument.write(    decodeURIComponent(this.getAttribute('data-html')));this.contentDocument.close();\" allowfullscreen webkitallowfullscreen mozallowfullscreen></iframe></div></div>"
      ],
      "text/plain": [
       "<folium.folium.Map at 0x7f7d5c1eb0b8>"
      ]
     },
     "execution_count": 33,
     "metadata": {},
     "output_type": "execute_result"
    }
   ],
   "source": [
    "Total = E_0.reduceToImage(\n",
    "        properties=['Total'],\n",
    "        reducer=ee.Reducer.first()).reproject(crs=bgfips.projection().crs(),  scale=2000).clip(district).select([0], ['Total'])\n",
    "\n",
    "E = E_0.reduceToImage(\n",
    "        properties=['E'],\n",
    "        reducer=ee.Reducer.first()).reproject(crs=bgfips.projection().crs(),  scale=2000).clip(district).select([0], ['E']);\n",
    "\n",
    "Popu_90 = bgfips1.reduceToImage(\n",
    "          properties=['Herd_2019'],\n",
    "          reducer=ee.Reducer.first()).reproject(crs=bgfips.projection().crs(),  scale=2000).clip(district).select([0], ['Population']);\n",
    "\n",
    "final = relative_density.select([0], ['Density']).addBands(Popu_90).addBands(E).addBands(Total);\n",
    "\n",
    "dasymetric_herd = final.addBands(final.expression('rdensity * popu90 * 400 / (E * Total)', {\n",
    "        'rdensity':final.select('Density'), \n",
    "        'popu90':final.select('Population'),  \n",
    "        'E':final.select('E'), \n",
    "        'Total':final.select('Total')}).rename('Cattle_herd_19'));\n",
    "\n",
    "visParams_final = {\"palette\":[\"afffe9\",\"bfff6a\",\"fcff49\",\"ffd22d\",\"ff3b1b\"],\n",
    "    'min': -10,\n",
    "    'max': 420,\n",
    "    'opacity': 1\n",
    "};\n",
    "\n",
    "final_tk = dasymetric_herd.select('Cattle_herd_19').getMapId(visParams_final)\n",
    "\n",
    "center = [-22.266659, -59.816228]\n",
    "Mapdisplay(center,{'Cattle herd 2019': final_tk, 'SENACSA limit':senacsa_tk, 'District limits': disct_tk},zoom_start=7)"
   ]
  },
  {
   "cell_type": "markdown",
   "id": "f189061d",
   "metadata": {},
   "source": [
    "### Validation: comparing modeled and measured herd"
   ]
  },
  {
   "cell_type": "code",
   "execution_count": 34,
   "id": "441c6e98",
   "metadata": {},
   "outputs": [
    {
     "data": {
      "image/png": "[encoded data removed]",
      "text/plain": [
       "<Figure size 432x288 with 1 Axes>"
      ]
     },
     "metadata": {
      "needs_background": "light"
     },
     "output_type": "display_data"
    }
   ],
   "source": [
    "prop = dasymetric_herd.select('Cattle_herd_19').reduceRegions(\n",
    "  collection=bgfips1,\n",
    "  reducer=ee.Reducer.sum(),\n",
    "  scale=2000,\n",
    ");\n",
    "\n",
    "Map = geemap.Map()\n",
    "\n",
    "features = ee.FeatureCollection(prop) \\\n",
    "    .select(['sum', 'Herd_2019'])\n",
    "\n",
    "df = geemap.ee_to_pandas(features)\n",
    "\n",
    "dataFrame = pd.DataFrame(data=df, columns=['sum', 'Herd_2019']);\n",
    "\n",
    "dataFrame.plot.scatter(x='sum', y='Herd_2019', title= \"Scatter plot between modeles and estimated herd\");\n",
    "\n",
    "plot.show(block=True)"
   ]
  }
 ],
 "metadata": {
  "kernelspec": {
   "display_name": "Python 3",
   "language": "python",
   "name": "python3"
  },
  "language_info": {
   "codemirror_mode": {
    "name": "ipython",
    "version": 3
   },
   "file_extension": ".py",
   "mimetype": "text/x-python",
   "name": "python",
   "nbconvert_exporter": "python",
   "pygments_lexer": "ipython3",
   "version": "3.6.8"
  }
 },
 "nbformat": 4,
 "nbformat_minor": 5
}
